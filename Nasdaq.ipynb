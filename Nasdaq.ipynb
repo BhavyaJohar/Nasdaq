{
  "nbformat": 4,
  "nbformat_minor": 0,
  "metadata": {
    "colab": {
      "provenance": [],
      "authorship_tag": "ABX9TyOlFxlWG0j+zXzOfQ0LF+Mf"
    },
    "kernelspec": {
      "name": "python3",
      "display_name": "Python 3"
    },
    "language_info": {
      "name": "python"
    }
  },
  "cells": [
    {
      "cell_type": "code",
      "source": [
        "pip install ta"
      ],
      "metadata": {
        "colab": {
          "base_uri": "https://localhost:8080/"
        },
        "id": "rFTmyahqm1wD",
        "outputId": "189c7d33-0ade-42aa-a406-870400edee91"
      },
      "execution_count": 2,
      "outputs": [
        {
          "output_type": "stream",
          "name": "stdout",
          "text": [
            "Collecting ta\n",
            "  Downloading ta-0.11.0.tar.gz (25 kB)\n",
            "  Preparing metadata (setup.py) ... \u001b[?25l\u001b[?25hdone\n",
            "Requirement already satisfied: numpy in /usr/local/lib/python3.10/dist-packages (from ta) (1.25.2)\n",
            "Requirement already satisfied: pandas in /usr/local/lib/python3.10/dist-packages (from ta) (2.0.3)\n",
            "Requirement already satisfied: python-dateutil>=2.8.2 in /usr/local/lib/python3.10/dist-packages (from pandas->ta) (2.8.2)\n",
            "Requirement already satisfied: pytz>=2020.1 in /usr/local/lib/python3.10/dist-packages (from pandas->ta) (2023.4)\n",
            "Requirement already satisfied: tzdata>=2022.1 in /usr/local/lib/python3.10/dist-packages (from pandas->ta) (2024.1)\n",
            "Requirement already satisfied: six>=1.5 in /usr/local/lib/python3.10/dist-packages (from python-dateutil>=2.8.2->pandas->ta) (1.16.0)\n",
            "Building wheels for collected packages: ta\n",
            "  Building wheel for ta (setup.py) ... \u001b[?25l\u001b[?25hdone\n",
            "  Created wheel for ta: filename=ta-0.11.0-py3-none-any.whl size=29411 sha256=f8110e4b60c5090adb9b5591bf7b5016a263afa389657e433f5ad2a8d948d358\n",
            "  Stored in directory: /root/.cache/pip/wheels/5f/67/4f/8a9f252836e053e532c6587a3230bc72a4deb16b03a829610b\n",
            "Successfully built ta\n",
            "Installing collected packages: ta\n",
            "Successfully installed ta-0.11.0\n"
          ]
        }
      ]
    },
    {
      "cell_type": "code",
      "execution_count": 10,
      "metadata": {
        "id": "2MhFNgSmmn8Y"
      },
      "outputs": [],
      "source": [
        "import yfinance as yf\n",
        "import pandas as pd\n",
        "import ta\n",
        "\n",
        "# Fetch the Nasdaq Composite historical data\n",
        "nas = yf.Ticker(\"^IXIC\")\n",
        "nas = nas.history(period=\"max\")\n",
        "\n",
        "# Add technical indicators\n",
        "nas['MACD'] = ta.trend.macd(nas['Close'])\n",
        "nas['MACD_Signal'] = ta.trend.macd_signal(nas['Close'])\n",
        "nas['RSI'] = ta.momentum.rsi(nas['Close'])\n",
        "bollinger = ta.volatility.BollingerBands(nas['Close'])\n",
        "nas['Bollinger_High'] = bollinger.bollinger_hband()\n",
        "nas['Bollinger_Low'] = bollinger.bollinger_lband()\n",
        "nas['Stochastic'] = ta.momentum.stoch(nas['High'], nas['Low'], nas['Close'])\n",
        "nas['ATR'] = ta.volatility.average_true_range(nas['High'], nas['Low'], nas['Close'])\n",
        "nas['EMA'] = ta.trend.ema_indicator(nas['Close'])\n",
        "\n",
        "# Shift tomorrow's close price for target calculation\n",
        "nas[\"Tomorrow\"] = nas[\"Close\"].shift(-1)\n",
        "nas[\"Target\"] = (nas[\"Tomorrow\"] > nas[\"Close\"]).astype(int)\n",
        "\n",
        "# Remove unnecessary columns and fill NaNs\n",
        "nas.drop(columns=[\"Dividends\", \"Stock Splits\"], inplace=True)\n",
        "nas = nas.loc[\"2000-01-01\":].copy()\n",
        "nas.dropna(inplace=True)\n",
        "\n",
        "# Normalize the predictors\n",
        "from sklearn.preprocessing import StandardScaler\n",
        "predictors = [\"Close\", \"Volume\", \"Open\", \"High\", \"Low\", \"MACD\", \"MACD_Signal\", \"RSI\", \"Bollinger_High\", \"Bollinger_Low\", \"Stochastic\", \"ATR\", \"EMA\"]\n",
        "scaler = StandardScaler()\n",
        "nas[predictors] = scaler.fit_transform(nas[predictors])"
      ]
    },
    {
      "cell_type": "code",
      "source": [
        "pip install pymdptoolbox"
      ],
      "metadata": {
        "colab": {
          "base_uri": "https://localhost:8080/"
        },
        "id": "Jgg98vf5nsLK",
        "outputId": "0c293bf0-fdc0-47a5-f605-8ee747aa3d14"
      },
      "execution_count": 6,
      "outputs": [
        {
          "output_type": "stream",
          "name": "stdout",
          "text": [
            "Collecting pymdptoolbox\n",
            "  Downloading pymdptoolbox-4.0-b3.zip (29 kB)\n",
            "  Preparing metadata (setup.py) ... \u001b[?25l\u001b[?25hdone\n",
            "Requirement already satisfied: numpy in /usr/local/lib/python3.10/dist-packages (from pymdptoolbox) (1.25.2)\n",
            "Requirement already satisfied: scipy in /usr/local/lib/python3.10/dist-packages (from pymdptoolbox) (1.11.4)\n",
            "Building wheels for collected packages: pymdptoolbox\n",
            "  Building wheel for pymdptoolbox (setup.py) ... \u001b[?25l\u001b[?25hdone\n",
            "  Created wheel for pymdptoolbox: filename=pymdptoolbox-4.0b3-py3-none-any.whl size=25656 sha256=b4ea3f6a1f2851eec3e28163e2680a17809036213c47222d195fdadbc97eeadb\n",
            "  Stored in directory: /root/.cache/pip/wheels/2b/e7/c7/d7abf9e309f3573a934fed2750c70bd75d9e9d901f7f16e183\n",
            "Successfully built pymdptoolbox\n",
            "Installing collected packages: pymdptoolbox\n",
            "Successfully installed pymdptoolbox-4.0b3\n"
          ]
        }
      ]
    },
    {
      "cell_type": "code",
      "source": [
        "import mdptoolbox\n",
        "import numpy as np\n",
        "\n",
        "# Define states and actions\n",
        "states = nas.index\n",
        "actions = [0, 1]  # 0: Hold, 1: Buy\n",
        "\n",
        "# Initialize transition probability matrix P and reward matrix R\n",
        "n_states = len(states)\n",
        "n_actions = len(actions)\n",
        "P = np.zeros((n_actions, n_states, n_states))\n",
        "R = np.zeros((n_states, n_actions))\n",
        "\n",
        "# Populate P and R\n",
        "for i in range(n_states - 1):\n",
        "    state = i\n",
        "    next_state = i + 1\n",
        "    reward_hold = 0\n",
        "    reward_buy = nas.iloc[next_state]['Close'] - nas.iloc[state]['Close']\n",
        "\n",
        "    P[0, state, next_state] = 1  # Transition probability for holding\n",
        "    P[1, state, next_state] = 1  # Transition probability for buying\n",
        "    R[state, 0] = reward_hold  # Reward for holding\n",
        "    R[state, 1] = reward_buy  # Reward for buying\n",
        "\n",
        "# Handle the last state separately to avoid transition issues\n",
        "P[0, n_states-1, n_states-1] = 1  # Transition to itself\n",
        "P[1, n_states-1, n_states-1] = 1  # Transition to itself\n",
        "R[n_states-1, 0] = 0\n",
        "R[n_states-1, 1] = 0\n",
        "\n",
        "# Ensure P is stochastic\n",
        "for a in range(n_actions):\n",
        "    for s in range(n_states):\n",
        "        if P[a, s].sum() > 0:\n",
        "            P[a, s] /= P[a, s].sum()\n",
        "\n",
        "# Check if P is stochastic\n",
        "for a in range(n_actions):\n",
        "    for s in range(n_states):\n",
        "        assert np.isclose(P[a, s].sum(), 1.0), f\"Row {s} of action {a} in P is not stochastic.\""
      ],
      "metadata": {
        "id": "OBR66S-enGpv"
      },
      "execution_count": 12,
      "outputs": []
    },
    {
      "cell_type": "code",
      "source": [
        "# Solve MDP using Policy Iteration\n",
        "mdp = mdptoolbox.mdp.PolicyIteration(P, R, 0.9)\n",
        "mdp.run()\n",
        "\n",
        "# Get optimal policy\n",
        "optimal_policy = mdp.policy\n",
        "\n",
        "# Use optimal policy to make predictions\n",
        "predictions = [optimal_policy[i] for i in range(len(states))]\n",
        "\n",
        "# Convert predictions to a pandas series\n",
        "predictions = pd.Series(predictions, index=nas.index, name='Predictions')\n",
        "\n",
        "# Combine predictions with actual target\n",
        "combined = pd.concat([nas['Target'], predictions], axis=1)\n",
        "\n",
        "# Evaluate performance\n",
        "from sklearn.metrics import precision_score\n",
        "precision = precision_score(combined['Target'], combined['Predictions'])\n",
        "print(f\"Precision: {precision}\")\n",
        "\n",
        "# Plot combined results\n",
        "combined.plot()"
      ],
      "metadata": {
        "colab": {
          "base_uri": "https://localhost:8080/",
          "height": 458
        },
        "id": "KpEH-uemnO8b",
        "outputId": "92faa3f6-b600-4451-f70f-9bda4610965c"
      },
      "execution_count": 13,
      "outputs": [
        {
          "output_type": "stream",
          "name": "stdout",
          "text": [
            "Precision: 1.0\n"
          ]
        },
        {
          "output_type": "execute_result",
          "data": {
            "text/plain": [
              "<Axes: xlabel='Date'>"
            ]
          },
          "metadata": {},
          "execution_count": 13
        },
        {
          "output_type": "display_data",
          "data": {
            "text/plain": [
              "<Figure size 640x480 with 1 Axes>"
            ],
            "image/png": "[encoded data removed]"
          },
          "metadata": {}
        }
      ]
    },
    {
      "cell_type": "code",
      "source": [
        "from sklearn.metrics import recall_score, f1_score, confusion_matrix, accuracy_score\n",
        "\n",
        "# Calculate recall\n",
        "recall = recall_score(combined['Target'], combined['Predictions'])\n",
        "print(f\"Recall: {recall}\")\n",
        "\n",
        "# Calculate F1-score\n",
        "f1 = f1_score(combined['Target'], combined['Predictions'])\n",
        "print(f\"F1 Score: {f1}\")\n",
        "\n",
        "# Calculate accuracy\n",
        "accuracy = accuracy_score(combined['Target'], combined['Predictions'])\n",
        "print(f\"Accuracy: {accuracy}\")\n",
        "\n",
        "# Confusion matrix\n",
        "conf_matrix = confusion_matrix(combined['Target'], combined['Predictions'])\n",
        "print(\"Confusion Matrix:\")\n",
        "print(conf_matrix)"
      ],
      "metadata": {
        "colab": {
          "base_uri": "https://localhost:8080/"
        },
        "id": "N6LiU79rpRQa",
        "outputId": "d2df3138-3497-4e9f-a307-816d6e6583d6"
      },
      "execution_count": 14,
      "outputs": [
        {
          "output_type": "stream",
          "name": "stdout",
          "text": [
            "Recall: 1.0\n",
            "F1 Score: 1.0\n",
            "Accuracy: 1.0\n",
            "Confusion Matrix:\n",
            "[[2822    0]\n",
            " [   0 3331]]\n"
          ]
        }
      ]
    },
    {
      "cell_type": "code",
      "source": [
        "from sklearn.model_selection import cross_val_score, KFold\n",
        "from sklearn.ensemble import RandomForestClassifier\n",
        "import numpy as np\n",
        "\n",
        "# Initialize the model\n",
        "model = RandomForestClassifier(n_estimators=100, min_samples_split=100, random_state=1)\n",
        "\n",
        "# Define k-fold cross-validation\n",
        "kf = KFold(n_splits=5, shuffle=True, random_state=1)\n",
        "\n",
        "# Perform cross-validation\n",
        "cross_val_scores = cross_val_score(model, nas[predictors], nas[\"Target\"], cv=kf, scoring='precision')\n",
        "\n",
        "print(f\"Cross-Validation Precision Scores: {cross_val_scores}\")\n",
        "print(f\"Average Cross-Validation Precision: {np.mean(cross_val_scores)}\")\n",
        "print(\"\\nExplanation:\")\n",
        "print(\"Cross-validation helps us see how well our model performs on different parts of the data. \"\n",
        "      \"We split the data into 5 parts and test the model on each part to ensure it's not just good at one specific set. \"\n",
        "      \"The precision scores tell us how accurate our positive predictions are. The closer these scores are to each other and to 1.0, \"\n",
        "      \"the more reliable our model is.\")\n",
        "\n",
        "# Check other metrics\n",
        "cross_val_recall = cross_val_score(model, nas[predictors], nas[\"Target\"], cv=kf, scoring='recall')\n",
        "cross_val_f1 = cross_val_score(model, nas[predictors], nas[\"Target\"], cv=kf, scoring='f1')\n",
        "cross_val_accuracy = cross_val_score(model, nas[predictors], nas[\"Target\"], cv=kf, scoring='accuracy')\n",
        "\n",
        "print(f\"Cross-Validation Recall Scores: {cross_val_recall}\")\n",
        "print(f\"Average Cross-Validation Recall: {np.mean(cross_val_recall)}\")\n",
        "\n",
        "print(f\"Cross-Validation F1 Scores: {cross_val_f1}\")\n",
        "print(f\"Average Cross-Validation F1: {np.mean(cross_val_f1)}\")\n",
        "\n",
        "print(f\"Cross-Validation Accuracy Scores: {cross_val_accuracy}\")\n",
        "print(f\"Average Cross-Validation Accuracy: {np.mean(cross_val_accuracy)}\")\n",
        "\n",
        "print(\"\\nExplanation:\")\n",
        "print(\"Recall shows how good our model is at finding all the positive cases. F1 Score balances precision and recall, \"\n",
        "      \"and accuracy shows the overall correctness of the model. Consistently high scores across these metrics suggest that our model is reliable.\")"
      ],
      "metadata": {
        "colab": {
          "base_uri": "https://localhost:8080/"
        },
        "id": "0k4xXxEqpoEC",
        "outputId": "f33c7b1b-c396-4886-c457-451eb1538996"
      },
      "execution_count": 16,
      "outputs": [
        {
          "output_type": "stream",
          "name": "stdout",
          "text": [
            "Cross-Validation Precision Scores: [0.52339499 0.54790097 0.52979415 0.55981941 0.54842342]\n",
            "Average Cross-Validation Precision: 0.5418665898742752\n",
            "\n",
            "Explanation:\n",
            "Cross-validation helps us see how well our model performs on different parts of the data. We split the data into 5 parts and test the model on each part to ensure it's not just good at one specific set. The precision scores tell us how accurate our positive predictions are. The closer these scores are to each other and to 1.0, the more reliable our model is.\n",
            "Cross-Validation Recall Scores: [0.74228395 0.7585693  0.75115207 0.72197962 0.72255193]\n",
            "Average Cross-Validation Recall: 0.7393073748458464\n",
            "Cross-Validation F1 Scores: [0.61391193 0.63625    0.62134689 0.63064209 0.62355954]\n",
            "Average Cross-Validation F1: 0.6251420889567008\n",
            "Cross-Validation Accuracy Scores: [0.50852965 0.52721365 0.51584078 0.52764228 0.52195122]\n",
            "Average Cross-Validation Accuracy: 0.5202355147840675\n",
            "\n",
            "Explanation:\n",
            "Recall shows how good our model is at finding all the positive cases. F1 Score balances precision and recall, and accuracy shows the overall correctness of the model. Consistently high scores across these metrics suggest that our model is reliable.\n"
          ]
        }
      ]
    },
    {
      "cell_type": "code",
      "source": [
        "from sklearn.model_selection import train_test_split\n",
        "from sklearn.metrics import precision_score, recall_score, f1_score, accuracy_score, confusion_matrix\n",
        "\n",
        "# Split the data into training and testing sets\n",
        "train, test = train_test_split(nas, test_size=0.2, random_state=1)\n",
        "\n",
        "# Train the model\n",
        "model.fit(train[predictors], train[\"Target\"])\n",
        "\n",
        "# Make predictions\n",
        "preds = model.predict(test[predictors])\n",
        "\n",
        "# Evaluate performance\n",
        "test_precision = precision_score(test[\"Target\"], preds)\n",
        "test_recall = recall_score(test[\"Target\"], preds)\n",
        "test_f1 = f1_score(test[\"Target\"], preds)\n",
        "test_accuracy = accuracy_score(test[\"Target\"], preds)\n",
        "test_conf_matrix = confusion_matrix(test[\"Target\"], preds)\n",
        "\n",
        "print(f\"Test Set Precision: {test_precision}\")\n",
        "print(f\"Test Set Recall: {test_recall}\")\n",
        "print(f\"Test Set F1 Score: {test_f1}\")\n",
        "print(f\"Test Set Accuracy: {test_accuracy}\")\n",
        "print(\"Test Set Confusion Matrix:\")\n",
        "print(test_conf_matrix)\n",
        "\n",
        "print(\"\\nExplanation:\")\n",
        "print(\"Testing on new data helps us see how well our model performs on data it hasn't seen before. \"\n",
        "      \"High scores in precision, recall, F1, and accuracy indicate that our model can generalize well to new data. \"\n",
        "      \"The confusion matrix shows how many predictions were correct and where the model made mistakes.\")"
      ],
      "metadata": {
        "colab": {
          "base_uri": "https://localhost:8080/"
        },
        "id": "F2310p-Dq2wL",
        "outputId": "89701eb4-c310-4b6e-be2b-5a6ef7c3cf72"
      },
      "execution_count": 17,
      "outputs": [
        {
          "output_type": "stream",
          "name": "stdout",
          "text": [
            "Test Set Precision: 0.528969957081545\n",
            "Test Set Recall: 0.7608024691358025\n",
            "Test Set F1 Score: 0.6240506329113924\n",
            "Test Set Accuracy: 0.5174654752233956\n",
            "Test Set Confusion Matrix:\n",
            "[[144 439]\n",
            " [155 493]]\n",
            "\n",
            "Explanation:\n",
            "Testing on new data helps us see how well our model performs on data it hasn't seen before. High scores in precision, recall, F1, and accuracy indicate that our model can generalize well to new data. The confusion matrix shows how many predictions were correct and where the model made mistakes.\n"
          ]
        }
      ]
    },
    {
      "cell_type": "code",
      "source": [
        "# Check for overfitting by comparing train and test scores\n",
        "train_preds = model.predict(train[predictors])\n",
        "train_precision = precision_score(train[\"Target\"], train_preds)\n",
        "train_recall = recall_score(train[\"Target\"], train_preds)\n",
        "train_f1 = f1_score(train[\"Target\"], train_preds)\n",
        "train_accuracy = accuracy_score(train[\"Target\"], train_preds)\n",
        "\n",
        "print(f\"Train Set Precision: {train_precision}\")\n",
        "print(f\"Train Set Recall: {train_recall}\")\n",
        "print(f\"Train Set F1 Score: {train_f1}\")\n",
        "print(f\"Train Set Accuracy: {train_accuracy}\")\n",
        "\n",
        "print(\"\\nExplanation:\")\n",
        "print(\"Comparing training and testing scores helps us detect overfitting. \"\n",
        "      \"If the model performs significantly better on the training data than on the test data, it might be overfitting. \"\n",
        "      \"If the scores are similar, it means the model generalizes well.\")\n",
        "\n",
        "# Additional check: feature importances\n",
        "feature_importances = model.feature_importances_\n",
        "importance_df = pd.DataFrame({'Feature': predictors, 'Importance': feature_importances})\n",
        "importance_df = importance_df.sort_values(by='Importance', ascending=False)\n",
        "\n",
        "print(\"\\nFeature Importances:\")\n",
        "print(importance_df)\n",
        "\n",
        "print(\"\\nExplanation:\")\n",
        "print(\"Feature importances tell us which features the model considers most important when making predictions. \"\n",
        "      \"Understanding which features are most influential can help us improve the model and ensure it focuses on the right data.\")"
      ],
      "metadata": {
        "colab": {
          "base_uri": "https://localhost:8080/"
        },
        "id": "F5P7m5MEsAom",
        "outputId": "7c77bd99-519f-42f0-a23e-9eecf14f68f4"
      },
      "execution_count": 18,
      "outputs": [
        {
          "output_type": "stream",
          "name": "stdout",
          "text": [
            "Train Set Precision: 0.7093188942718723\n",
            "Train Set Recall: 0.9276928811032427\n",
            "Train Set F1 Score: 0.8039405684754521\n",
            "Train Set Accuracy: 0.7533522958147094\n",
            "\n",
            "Explanation:\n",
            "Comparing training and testing scores helps us detect overfitting. If the model performs significantly better on the training data than on the test data, it might be overfitting. If the scores are similar, it means the model generalizes well.\n",
            "\n",
            "Feature Importances:\n",
            "           Feature  Importance\n",
            "11             ATR    0.101433\n",
            "7              RSI    0.095570\n",
            "1           Volume    0.093185\n",
            "5             MACD    0.091302\n",
            "10      Stochastic    0.090867\n",
            "6      MACD_Signal    0.083201\n",
            "8   Bollinger_High    0.071234\n",
            "9    Bollinger_Low    0.070520\n",
            "12             EMA    0.063827\n",
            "3             High    0.062023\n",
            "0            Close    0.060463\n",
            "2             Open    0.059358\n",
            "4              Low    0.057017\n",
            "\n",
            "Explanation:\n",
            "Feature importances tell us which features the model considers most important when making predictions. Understanding which features are most influential can help us improve the model and ensure it focuses on the right data.\n"
          ]
        }
      ]
    },
    {
      "cell_type": "code",
      "source": [
        "# Create lag features\n",
        "for lag in range(1, 6):\n",
        "    nas[f'Close_Lag_{lag}'] = nas['Close'].shift(lag)\n",
        "    nas[f'Volume_Lag_{lag}'] = nas['Volume'].shift(lag)\n",
        "\n",
        "# Drop rows with NaN values due to lag features\n",
        "nas.dropna(inplace=True)\n",
        "\n",
        "# Ensure the predictors list is updated with new features\n",
        "predictors += [f'Close_Lag_{lag}' for lag in range(1, 6)]\n",
        "predictors += [f'Volume_Lag_{lag}' for lag in range(1, 6)]\n",
        "\n",
        "# Standardize the new features\n",
        "nas[predictors] = scaler.fit_transform(nas[predictors])"
      ],
      "metadata": {
        "id": "3xAZh2sGsNi_"
      },
      "execution_count": 19,
      "outputs": []
    },
    {
      "cell_type": "code",
      "source": [
        "from sklearn.model_selection import GridSearchCV\n",
        "from sklearn.ensemble import RandomForestClassifier\n",
        "\n",
        "# Define parameter grid\n",
        "param_grid = {\n",
        "    'n_estimators': [100, 200, 300],\n",
        "    'min_samples_split': [50, 100, 200],\n",
        "    'max_features': ['sqrt', 'log2']  # Updated to avoid deprecated 'auto'\n",
        "}\n",
        "\n",
        "# Initialize the model\n",
        "model = RandomForestClassifier(random_state=1)\n",
        "\n",
        "# Perform Grid Search\n",
        "grid_search = GridSearchCV(estimator=model, param_grid=param_grid, cv=5, scoring='f1')\n",
        "grid_search.fit(nas[predictors], nas['Target'])\n",
        "\n",
        "# Get the best parameters\n",
        "best_params = grid_search.best_params_\n",
        "print(f\"Best Parameters: {best_params}\")\n",
        "\n",
        "# Train the model with best parameters\n",
        "model = RandomForestClassifier(**best_params, random_state=1)\n",
        "model.fit(nas[predictors], nas['Target'])"
      ],
      "metadata": {
        "colab": {
          "base_uri": "https://localhost:8080/",
          "height": 93
        },
        "id": "Wxj6eFemuB28",
        "outputId": "645f0565-7d94-43de-9937-418616ce332a"
      },
      "execution_count": 21,
      "outputs": [
        {
          "output_type": "stream",
          "name": "stdout",
          "text": [
            "Best Parameters: {'max_features': 'sqrt', 'min_samples_split': 200, 'n_estimators': 300}\n"
          ]
        },
        {
          "output_type": "execute_result",
          "data": {
            "text/plain": [
              "RandomForestClassifier(min_samples_split=200, n_estimators=300, random_state=1)"
            ],
            "text/html": [
              "<style>#sk-container-id-1 {color: black;background-color: white;}#sk-container-id-1 pre{padding: 0;}#sk-container-id-1 div.sk-toggleable {background-color: white;}#sk-container-id-1 label.sk-toggleable__label {cursor: pointer;display: block;width: 100%;margin-bottom: 0;padding: 0.3em;box-sizing: border-box;text-align: center;}#sk-container-id-1 label.sk-toggleable__label-arrow:before {content: \"▸\";float: left;margin-right: 0.25em;color: #696969;}#sk-container-id-1 label.sk-toggleable__label-arrow:hover:before {color: black;}#sk-container-id-1 div.sk-estimator:hover label.sk-toggleable__label-arrow:before {color: black;}#sk-container-id-1 div.sk-toggleable__content {max-height: 0;max-width: 0;overflow: hidden;text-align: left;background-color: #f0f8ff;}#sk-container-id-1 div.sk-toggleable__content pre {margin: 0.2em;color: black;border-radius: 0.25em;background-color: #f0f8ff;}#sk-container-id-1 input.sk-toggleable__control:checked~div.sk-toggleable__content {max-height: 200px;max-width: 100%;overflow: auto;}#sk-container-id-1 input.sk-toggleable__control:checked~label.sk-toggleable__label-arrow:before {content: \"▾\";}#sk-container-id-1 div.sk-estimator input.sk-toggleable__control:checked~label.sk-toggleable__label {background-color: #d4ebff;}#sk-container-id-1 div.sk-label input.sk-toggleable__control:checked~label.sk-toggleable__label {background-color: #d4ebff;}#sk-container-id-1 input.sk-hidden--visually {border: 0;clip: rect(1px 1px 1px 1px);clip: rect(1px, 1px, 1px, 1px);height: 1px;margin: -1px;overflow: hidden;padding: 0;position: absolute;width: 1px;}#sk-container-id-1 div.sk-estimator {font-family: monospace;background-color: #f0f8ff;border: 1px dotted black;border-radius: 0.25em;box-sizing: border-box;margin-bottom: 0.5em;}#sk-container-id-1 div.sk-estimator:hover {background-color: #d4ebff;}#sk-container-id-1 div.sk-parallel-item::after {content: \"\";width: 100%;border-bottom: 1px solid gray;flex-grow: 1;}#sk-container-id-1 div.sk-label:hover label.sk-toggleable__label {background-color: #d4ebff;}#sk-container-id-1 div.sk-serial::before {content: \"\";position: absolute;border-left: 1px solid gray;box-sizing: border-box;top: 0;bottom: 0;left: 50%;z-index: 0;}#sk-container-id-1 div.sk-serial {display: flex;flex-direction: column;align-items: center;background-color: white;padding-right: 0.2em;padding-left: 0.2em;position: relative;}#sk-container-id-1 div.sk-item {position: relative;z-index: 1;}#sk-container-id-1 div.sk-parallel {display: flex;align-items: stretch;justify-content: center;background-color: white;position: relative;}#sk-container-id-1 div.sk-item::before, #sk-container-id-1 div.sk-parallel-item::before {content: \"\";position: absolute;border-left: 1px solid gray;box-sizing: border-box;top: 0;bottom: 0;left: 50%;z-index: -1;}#sk-container-id-1 div.sk-parallel-item {display: flex;flex-direction: column;z-index: 1;position: relative;background-color: white;}#sk-container-id-1 div.sk-parallel-item:first-child::after {align-self: flex-end;width: 50%;}#sk-container-id-1 div.sk-parallel-item:last-child::after {align-self: flex-start;width: 50%;}#sk-container-id-1 div.sk-parallel-item:only-child::after {width: 0;}#sk-container-id-1 div.sk-dashed-wrapped {border: 1px dashed gray;margin: 0 0.4em 0.5em 0.4em;box-sizing: border-box;padding-bottom: 0.4em;background-color: white;}#sk-container-id-1 div.sk-label label {font-family: monospace;font-weight: bold;display: inline-block;line-height: 1.2em;}#sk-container-id-1 div.sk-label-container {text-align: center;}#sk-container-id-1 div.sk-container {/* jupyter's `normalize.less` sets `[hidden] { display: none; }` but bootstrap.min.css set `[hidden] { display: none !important; }` so we also need the `!important` here to be able to override the default hidden behavior on the sphinx rendered scikit-learn.org. See: https://github.com/scikit-learn/scikit-learn/issues/21755 */display: inline-block !important;position: relative;}#sk-container-id-1 div.sk-text-repr-fallback {display: none;}</style><div id=\"sk-container-id-1\" class=\"sk-top-container\"><div class=\"sk-text-repr-fallback\"><pre>RandomForestClassifier(min_samples_split=200, n_estimators=300, random_state=1)</pre><b>In a Jupyter environment, please rerun this cell to show the HTML representation or trust the notebook. <br />On GitHub, the HTML representation is unable to render, please try loading this page with nbviewer.org.</b></div><div class=\"sk-container\" hidden><div class=\"sk-item\"><div class=\"sk-estimator sk-toggleable\"><input class=\"sk-toggleable__control sk-hidden--visually\" id=\"sk-estimator-id-1\" type=\"checkbox\" checked><label for=\"sk-estimator-id-1\" class=\"sk-toggleable__label sk-toggleable__label-arrow\">RandomForestClassifier</label><div class=\"sk-toggleable__content\"><pre>RandomForestClassifier(min_samples_split=200, n_estimators=300, random_state=1)</pre></div></div></div></div></div>"
            ]
          },
          "metadata": {},
          "execution_count": 21
        }
      ]
    },
    {
      "cell_type": "code",
      "source": [
        "from sklearn.model_selection import train_test_split\n",
        "from sklearn.metrics import precision_score, recall_score, f1_score, accuracy_score, confusion_matrix\n",
        "\n",
        "# Split the data into training and testing sets\n",
        "train, test = train_test_split(nas, test_size=0.2, random_state=1)\n",
        "\n",
        "# Train the model with best parameters\n",
        "model.fit(train[predictors], train['Target'])\n",
        "\n",
        "# Make predictions\n",
        "preds = model.predict(test[predictors])\n",
        "\n",
        "# Evaluate performance\n",
        "test_precision = precision_score(test['Target'], preds)\n",
        "test_recall = recall_score(test['Target'], preds)\n",
        "test_f1 = f1_score(test['Target'], preds)\n",
        "test_accuracy = accuracy_score(test['Target'], preds)\n",
        "test_conf_matrix = confusion_matrix(test['Target'], preds)\n",
        "\n",
        "print(f\"Test Set Precision: {test_precision}\")\n",
        "print(f\"Test Set Recall: {test_recall}\")\n",
        "print(f\"Test Set F1 Score: {test_f1}\")\n",
        "print(f\"Test Set Accuracy: {test_accuracy}\")\n",
        "print(\"Test Set Confusion Matrix:\")\n",
        "print(test_conf_matrix)\n",
        "\n",
        "print(\"\\nExplanation:\")\n",
        "print(\"The enhanced model should show improved performance metrics compared to the original model. \"\n",
        "      \"Higher precision, recall, F1 score, and accuracy indicate a better-performing model.\")"
      ],
      "metadata": {
        "colab": {
          "base_uri": "https://localhost:8080/"
        },
        "id": "LISJKajxuEHq",
        "outputId": "04fe661f-3fb8-4d32-a938-a8896b5e29be"
      },
      "execution_count": 22,
      "outputs": [
        {
          "output_type": "stream",
          "name": "stdout",
          "text": [
            "Test Set Precision: 0.5272373540856031\n",
            "Test Set Recall: 0.8262195121951219\n",
            "Test Set F1 Score: 0.6437054631828979\n",
            "Test Set Accuracy: 0.5121951219512195\n",
            "Test Set Confusion Matrix:\n",
            "[[ 88 486]\n",
            " [114 542]]\n",
            "\n",
            "Explanation:\n",
            "The enhanced model should show improved performance metrics compared to the original model. Higher precision, recall, F1 score, and accuracy indicate a better-performing model.\n"
          ]
        }
      ]
    },
    {
      "cell_type": "code",
      "source": [
        "# Test set results after hyperparameter tuning and feature engineering\n",
        "test_precision = 0.5272373540856031\n",
        "test_recall = 0.8262195121951219\n",
        "test_f1 = 0.6437054631828979\n",
        "test_accuracy = 0.5121951219512195\n",
        "test_conf_matrix = np.array([[ 88, 486], [114, 542]])\n",
        "\n",
        "print(f\"Test Set Precision: {test_precision}\")\n",
        "print(f\"Test Set Recall: {test_recall}\")\n",
        "print(f\"Test Set F1 Score: {test_f1}\")\n",
        "print(f\"Test Set Accuracy: {test_accuracy}\")\n",
        "print(\"Test Set Confusion Matrix:\")\n",
        "print(test_conf_matrix)\n",
        "\n",
        "print(\"\\nExplanation of Results:\")\n",
        "print(\"1. Precision (0.5272) slightly decreased from the previous value (0.5289), meaning the percentage of correctly predicted positive instances (out of all predicted positives) is roughly the same as before.\")\n",
        "print(\"2. Recall (0.8262) significantly improved from the previous value (0.7608), meaning the model is better at identifying actual positive cases. This is a notable improvement.\")\n",
        "print(\"3. F1 Score (0.6437) improved from the previous value (0.6241), indicating a better balance between identifying positive cases and maintaining precision.\")\n",
        "print(\"4. Accuracy (0.5122) is slightly lower than the previous value (0.5175). However, accuracy alone can be misleading in imbalanced datasets.\")\n",
        "print(\"5. Confusion Matrix:\")\n",
        "print(\"   - True Negatives (TN): Decreased from 144 to 88.\")\n",
        "print(\"   - False Positives (FP): Increased from 439 to 486.\")\n",
        "print(\"   - False Negatives (FN): Decreased from 155 to 114.\")\n",
        "print(\"   - True Positives (TP): Increased from 493 to 542.\")"
      ],
      "metadata": {
        "colab": {
          "base_uri": "https://localhost:8080/"
        },
        "id": "6fm2rB3iwl-f",
        "outputId": "b0e8cc54-f536-4b64-84b4-ebad2d7f4695"
      },
      "execution_count": 23,
      "outputs": [
        {
          "output_type": "stream",
          "name": "stdout",
          "text": [
            "Test Set Precision: 0.5272373540856031\n",
            "Test Set Recall: 0.8262195121951219\n",
            "Test Set F1 Score: 0.6437054631828979\n",
            "Test Set Accuracy: 0.5121951219512195\n",
            "Test Set Confusion Matrix:\n",
            "[[ 88 486]\n",
            " [114 542]]\n",
            "\n",
            "Explanation of Results:\n",
            "1. Precision (0.5272) slightly decreased from the previous value (0.5289), meaning the percentage of correctly predicted positive instances (out of all predicted positives) is roughly the same as before.\n",
            "2. Recall (0.8262) significantly improved from the previous value (0.7608), meaning the model is better at identifying actual positive cases. This is a notable improvement.\n",
            "3. F1 Score (0.6437) improved from the previous value (0.6241), indicating a better balance between identifying positive cases and maintaining precision.\n",
            "4. Accuracy (0.5122) is slightly lower than the previous value (0.5175). However, accuracy alone can be misleading in imbalanced datasets.\n",
            "5. Confusion Matrix:\n",
            "   - True Negatives (TN): Decreased from 144 to 88.\n",
            "   - False Positives (FP): Increased from 439 to 486.\n",
            "   - False Negatives (FN): Decreased from 155 to 114.\n",
            "   - True Positives (TP): Increased from 493 to 542.\n"
          ]
        }
      ]
    },
    {
      "cell_type": "code",
      "source": [],
      "metadata": {
        "id": "L8xxPLuax9yD"
      },
      "execution_count": null,
      "outputs": []
    }
  ]
}